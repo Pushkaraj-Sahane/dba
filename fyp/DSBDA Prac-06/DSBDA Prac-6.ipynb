{
 "cells": [
  {
   "cell_type": "code",
   "execution_count": 3,
   "id": "7156e8e3",
   "metadata": {},
   "outputs": [
    {
     "name": "stdout",
     "output_type": "stream",
     "text": [
      "   Id  SepalLengthCm  SepalWidthCm  PetalLengthCm  PetalWidthCm      Species\n",
      "0   1            5.1           3.5            1.4           0.2  Iris-setosa\n",
      "1   2            4.9           3.0            1.4           0.2  Iris-setosa\n",
      "2   3            4.7           3.2            1.3           0.2  Iris-setosa\n",
      "3   4            4.6           3.1            1.5           0.2  Iris-setosa\n",
      "4   5            5.0           3.6            1.4           0.2  Iris-setosa\n"
     ]
    }
   ],
   "source": [
    "import numpy as np\n",
    "import matplotlib.pyplot as plt \n",
    "import pandas as pd\n",
    "\n",
    "iris = pd.read_csv('./Iris.csv')\n",
    "X=iris.iloc[:,:4].values\n",
    "y = iris['Species'].values\n",
    "print(iris.head(5)) "
   ]
  },
  {
   "cell_type": "code",
   "execution_count": 4,
   "id": "9d58d19e",
   "metadata": {},
   "outputs": [],
   "source": [
    "from sklearn.model_selection import train_test_split\n",
    "X_train, X_test, y_train, y_test = train_test_split(X, y, test_size = 0.2)"
   ]
  },
  {
   "cell_type": "code",
   "execution_count": 5,
   "id": "a71d0f4a",
   "metadata": {},
   "outputs": [
    {
     "ename": "SyntaxError",
     "evalue": "invalid syntax (514751664.py, line 1)",
     "output_type": "error",
     "traceback": [
      "\u001b[1;36m  File \u001b[1;32m\"C:\\Users\\avcom\\AppData\\Local\\Temp\\ipykernel_15304\\514751664.py\"\u001b[1;36m, line \u001b[1;32m1\u001b[0m\n\u001b[1;33m    from sklearn.preprocessing import\u001b[0m\n\u001b[1;37m                                     ^\u001b[0m\n\u001b[1;31mSyntaxError\u001b[0m\u001b[1;31m:\u001b[0m invalid syntax\n"
     ]
    }
   ],
   "source": [
    "from sklearn.preprocessing import StandardScaler \n",
    "sc = StandardScaler()\n",
    "X_train = sc.fit_transform(X_train)\n",
    "X_test = sc.transform(X_test)\n"
   ]
  },
  {
   "cell_type": "code",
   "execution_count": 6,
   "id": "c56245de",
   "metadata": {},
   "outputs": [],
   "source": [
    "from sklearn.preprocessing import StandardScaler \n",
    "sc = StandardScaler()\n",
    "X_train = sc.fit_transform(X_train)\n",
    "X_test = sc.transform(X_test)\n"
   ]
  },
  {
   "cell_type": "code",
   "execution_count": 7,
   "id": "c48bdc9d",
   "metadata": {},
   "outputs": [
    {
     "data": {
      "text/plain": [
       "GaussianNB()"
      ]
     },
     "execution_count": 7,
     "metadata": {},
     "output_type": "execute_result"
    }
   ],
   "source": [
    "from sklearn.naive_bayes import GaussianNB\n",
    "classifier = GaussianNB()\n",
    "classifier.fit(X_train, y_train)"
   ]
  },
  {
   "cell_type": "code",
   "execution_count": 8,
   "id": "d309f138",
   "metadata": {},
   "outputs": [],
   "source": [
    "y_pred = classifier.predict(X_test) "
   ]
  },
  {
   "cell_type": "code",
   "execution_count": 9,
   "id": "79e370aa",
   "metadata": {},
   "outputs": [
    {
     "name": "stdout",
     "output_type": "stream",
     "text": [
      "Accuracy :  1.0\n",
      "[[12  0  0]\n",
      " [ 0  8  0]\n",
      " [ 0  0 10]]\n"
     ]
    }
   ],
   "source": [
    "from sklearn.metrics import confusion_matrix \n",
    "cm = confusion_matrix(y_test, y_pred) \n",
    "from sklearn.metrics import accuracy_score\n",
    "print(\"Accuracy : \", accuracy_score(y_test, y_pred))\n",
    "print(cm)"
   ]
  },
  {
   "cell_type": "code",
   "execution_count": 10,
   "id": "f5953889",
   "metadata": {},
   "outputs": [
    {
     "name": "stdout",
     "output_type": "stream",
     "text": [
      "        Real Values Predicted Values\n",
      "0   Iris-versicolor  Iris-versicolor\n",
      "1       Iris-setosa      Iris-setosa\n",
      "2    Iris-virginica   Iris-virginica\n",
      "3   Iris-versicolor  Iris-versicolor\n",
      "4    Iris-virginica   Iris-virginica\n",
      "5       Iris-setosa      Iris-setosa\n",
      "6    Iris-virginica   Iris-virginica\n",
      "7    Iris-virginica   Iris-virginica\n",
      "8    Iris-virginica   Iris-virginica\n",
      "9   Iris-versicolor  Iris-versicolor\n",
      "10      Iris-setosa      Iris-setosa\n",
      "11      Iris-setosa      Iris-setosa\n",
      "12  Iris-versicolor  Iris-versicolor\n",
      "13  Iris-versicolor  Iris-versicolor\n",
      "14   Iris-virginica   Iris-virginica\n",
      "15      Iris-setosa      Iris-setosa\n",
      "16  Iris-versicolor  Iris-versicolor\n",
      "17  Iris-versicolor  Iris-versicolor\n",
      "18   Iris-virginica   Iris-virginica\n",
      "19      Iris-setosa      Iris-setosa\n",
      "20   Iris-virginica   Iris-virginica\n",
      "21      Iris-setosa      Iris-setosa\n",
      "22      Iris-setosa      Iris-setosa\n",
      "23      Iris-setosa      Iris-setosa\n",
      "24   Iris-virginica   Iris-virginica\n",
      "25      Iris-setosa      Iris-setosa\n",
      "26      Iris-setosa      Iris-setosa\n",
      "27      Iris-setosa      Iris-setosa\n",
      "28  Iris-versicolor  Iris-versicolor\n",
      "29   Iris-virginica   Iris-virginica\n"
     ]
    }
   ],
   "source": [
    "df = pd.DataFrame({'Real Values':y_test, 'Predicted Values':y_pred})\n",
    "print(df)"
   ]
  },
  {
   "cell_type": "code",
   "execution_count": 11,
   "id": "502322d2",
   "metadata": {},
   "outputs": [
    {
     "ename": "SyntaxError",
     "evalue": "invalid syntax (1625805534.py, line 5)",
     "output_type": "error",
     "traceback": [
      "\u001b[1;36m  File \u001b[1;32m\"C:\\Users\\avcom\\AppData\\Local\\Temp\\ipykernel_15304\\1625805534.py\"\u001b[1;36m, line \u001b[1;32m5\u001b[0m\n\u001b[1;33m    print(\"Recall Score:\",recall_score(y_test,y_pred,average='micro'))\u001b[0m\n\u001b[1;37m    ^\u001b[0m\n\u001b[1;31mSyntaxError\u001b[0m\u001b[1;31m:\u001b[0m invalid syntax\n"
     ]
    }
   ],
   "source": [
    "from sklearn.metrics import precision_score, recall_score, accuracy_score \n",
    "m=accuracy_score(y_test, y_pred)\n",
    "print(\"error rate:-\",1-m) \n",
    "print('Precision:',precision_score(y_test,y_pred,average='micro')\n",
    "print(\"Recall Score:\",recall_score(y_test,y_pred,average='micro'))"
   ]
  },
  {
   "cell_type": "code",
   "execution_count": 12,
   "id": "1121a102",
   "metadata": {},
   "outputs": [
    {
     "name": "stdout",
     "output_type": "stream",
     "text": [
      "error rate:- 0.0\n",
      "Precision: 1.0\n",
      "Recall Score: 1.0\n"
     ]
    }
   ],
   "source": [
    "from sklearn.metrics import precision_score, recall_score, accuracy_score \n",
    "m=accuracy_score(y_test, y_pred)\n",
    "print(\"error rate:-\",1-m) \n",
    "print('Precision:',precision_score(y_test,y_pred,average='micro'))\n",
    "print(\"Recall Score:\",recall_score(y_test,y_pred,average='micro'))"
   ]
  },
  {
   "cell_type": "code",
   "execution_count": null,
   "id": "6b6825b0",
   "metadata": {},
   "outputs": [],
   "source": []
  }
 ],
 "metadata": {
  "kernelspec": {
   "display_name": "Python 3 (ipykernel)",
   "language": "python",
   "name": "python3"
  },
  "language_info": {
   "codemirror_mode": {
    "name": "ipython",
    "version": 3
   },
   "file_extension": ".py",
   "mimetype": "text/x-python",
   "name": "python",
   "nbconvert_exporter": "python",
   "pygments_lexer": "ipython3",
   "version": "3.11.7"
  }
 },
 "nbformat": 4,
 "nbformat_minor": 5
}
